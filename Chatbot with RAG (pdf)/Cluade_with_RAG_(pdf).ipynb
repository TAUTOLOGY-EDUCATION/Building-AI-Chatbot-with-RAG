{
  "cells": [
    {
      "cell_type": "code",
      "execution_count": 2,
      "id": "UVt3uUUESKks",
      "metadata": {
        "id": "UVt3uUUESKks"
      },
      "outputs": [],
      "source": [
        "# pip install langchain_community"
      ]
    },
    {
      "cell_type": "code",
      "execution_count": 3,
      "id": "t1nYtOkgSNDT",
      "metadata": {
        "id": "t1nYtOkgSNDT"
      },
      "outputs": [],
      "source": [
        "# pip install langchain_openai"
      ]
    },
    {
      "cell_type": "code",
      "execution_count": 4,
      "id": "v6_9P21aSeCz",
      "metadata": {
        "id": "v6_9P21aSeCz"
      },
      "outputs": [],
      "source": [
        "# pip install pysqlite3"
      ]
    },
    {
      "cell_type": "code",
      "execution_count": 5,
      "id": "7SSHJqSvSuvv",
      "metadata": {
        "id": "7SSHJqSvSuvv"
      },
      "outputs": [],
      "source": [
        "# pip install Chroma"
      ]
    },
    {
      "cell_type": "code",
      "execution_count": 7,
      "id": "glb5rSDubo3j",
      "metadata": {
        "id": "glb5rSDubo3j"
      },
      "outputs": [],
      "source": [
        "# pip install pymupdf"
      ]
    },
    {
      "cell_type": "code",
      "execution_count": 8,
      "id": "jIzJrhNgIb_9",
      "metadata": {
        "id": "jIzJrhNgIb_9"
      },
      "outputs": [],
      "source": [
        "# pip install langchain-anthropic"
      ]
    },
    {
      "cell_type": "code",
      "execution_count": 9,
      "id": "b1fc20e5",
      "metadata": {
        "id": "b1fc20e5"
      },
      "outputs": [],
      "source": [
        "import os\n",
        "import sys\n",
        "\n",
        "# Import classes from modules\n",
        "from langchain_community.document_loaders import PyMuPDFLoader\n",
        "from langchain.chains import ConversationalRetrievalChain\n",
        "from langchain.text_splitter import CharacterTextSplitter\n",
        "from langchain.prompts import PromptTemplate\n",
        "from langchain.vectorstores import Chroma\n",
        "from langchain_openai import OpenAIEmbeddings\n",
        "from langchain_anthropic import ChatAnthropic\n",
        "\n",
        "__import__('pysqlite3')\n",
        "import sys\n",
        "sys.modules['sqlite3'] = sys.modules.pop('pysqlite3')"
      ]
    },
    {
      "cell_type": "code",
      "execution_count": 10,
      "id": "387ff8f7",
      "metadata": {
        "id": "387ff8f7"
      },
      "outputs": [],
      "source": [
        "# Generate API KEY from Claude and OpenAI website and define as a variable.\n",
        "os.environ[\"ANTHROPIC_API_KEY\"] = \"YOUR_API_KEYS\"\n",
        "os.environ[\"OPENAI_API_KEY\"] = \"YOUR_API_KEYS\""
      ]
    },
    {
      "cell_type": "code",
      "execution_count": 11,
      "id": "0327a1cc",
      "metadata": {
        "id": "0327a1cc"
      },
      "outputs": [],
      "source": [
        "# Define the path to your local PDF file\n",
        "local_path = \"ข้อมูลยา 50 ชนิด.pdf\"\n",
        "\n",
        "# Load and split the PDF file\n",
        "if local_path:\n",
        "    loader = PyMuPDFLoader(file_path=local_path)\n",
        "    data = loader.load_and_split()\n",
        "else:\n",
        "    print(\"Upload a PDF file\")\n",
        "    sys.exit()"
      ]
    },
    {
      "cell_type": "code",
      "execution_count": 12,
      "id": "f0ca19b7",
      "metadata": {
        "id": "f0ca19b7",
        "scrolled": true
      },
      "outputs": [],
      "source": [
        "# data"
      ]
    },
    {
      "cell_type": "code",
      "execution_count": 13,
      "id": "33740cfa",
      "metadata": {
        "id": "33740cfa"
      },
      "outputs": [],
      "source": [
        "text_splitter = CharacterTextSplitter(separator=\"\\n\\n\", chunk_size=1000, chunk_overlap=0)\n",
        "texts = text_splitter.split_documents(data)"
      ]
    },
    {
      "cell_type": "code",
      "execution_count": 14,
      "id": "693fa4ba",
      "metadata": {
        "id": "693fa4ba"
      },
      "outputs": [],
      "source": [
        "# texts"
      ]
    },
    {
      "cell_type": "code",
      "execution_count": 15,
      "id": "8c81a598",
      "metadata": {
        "id": "8c81a598"
      },
      "outputs": [],
      "source": [
        "# This part is used for embedding the docs and storing them into Vector DB and initializing the retriever.\n",
        "embeddings = OpenAIEmbeddings()\n",
        "docsearch = Chroma.from_documents(texts, embeddings)"
      ]
    },
    {
      "cell_type": "code",
      "execution_count": null,
      "id": "FuH3QnciPhrr",
      "metadata": {
        "id": "FuH3QnciPhrr"
      },
      "outputs": [],
      "source": [
        "custom_template = PromptTemplate(\n",
        "    input_variables=[\"context\", \"question\"],\n",
        "    template=\"\"\"\n",
        "    You are an AI thai language model assistant.\n",
        "    You are an expert at answering questions about medicine.\n",
        "    Answer the question based ONLY on the following context.\n",
        "\n",
        "\n",
        "    {context}\n",
        "\n",
        "\n",
        "    Original question: {question}\"\"\",\n",
        ")"
      ]
    },
    {
      "cell_type": "code",
      "execution_count": 16,
      "id": "7958bbae",
      "metadata": {
        "id": "7958bbae"
      },
      "outputs": [],
      "source": [
        "# Create the language model\n",
        "llm1 = ChatAnthropic(model=\"claude-3-sonnet-20240229\", max_tokens=1024)\n",
        "\n",
        "chain = ConversationalRetrievalChain.from_llm(\n",
        "    llm=llm1,\n",
        "    retriever=docsearch.as_retriever(),\n",
        "    combine_docs_chain_kwargs={\"prompt\": custom_template}\n",
        ")"
      ]
    },
    {
      "cell_type": "code",
      "execution_count": 17,
      "id": "6f48ec69",
      "metadata": {
        "colab": {
          "base_uri": "https://localhost:8080/"
        },
        "id": "6f48ec69",
        "outputId": "79d21db2-58ba-4843-a917-1777bcc2ec7b"
      },
      "outputs": [
        {
          "name": "stdout",
          "output_type": "stream",
          "text": [
            "User: q\n"
          ]
        }
      ],
      "source": [
        "chat_history = []\n",
        "query = None  # Initialize query to avoid potential reference error\n",
        "\n",
        "while True:\n",
        "    if not query:\n",
        "        query = input(\"User: \")\n",
        "    if query in ['quit', 'q', 'exit']:\n",
        "        break\n",
        "    result = chain.invoke({\"question\": query, \"chat_history\": chat_history})\n",
        "    print(\"Chatbot:\", result['answer'])\n",
        "\n",
        "    chat_history.append((query, result['answer']))\n",
        "    query = None"
      ]
    },
    {
      "cell_type": "code",
      "execution_count": 17,
      "id": "CEoB8fqd85DU",
      "metadata": {
        "id": "CEoB8fqd85DU"
      },
      "outputs": [],
      "source": []
    }
  ],
  "metadata": {
    "colab": {
      "provenance": []
    },
    "kernelspec": {
      "display_name": "Python 3 (ipykernel)",
      "language": "python",
      "name": "python3"
    },
    "language_info": {
      "codemirror_mode": {
        "name": "ipython",
        "version": 3
      },
      "file_extension": ".py",
      "mimetype": "text/x-python",
      "name": "python",
      "nbconvert_exporter": "python",
      "pygments_lexer": "ipython3",
      "version": "3.11.7"
    }
  },
  "nbformat": 4,
  "nbformat_minor": 5
}
