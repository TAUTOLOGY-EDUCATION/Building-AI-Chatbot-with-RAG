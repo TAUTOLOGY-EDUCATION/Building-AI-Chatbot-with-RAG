{
  "cells": [
    {
      "cell_type": "code",
      "execution_count": null,
      "id": "3227f574",
      "metadata": {},
      "outputs": [],
      "source": [
        "# pip install langchain_community"
      ]
    },
    {
      "cell_type": "code",
      "execution_count": null,
      "id": "901047f2",
      "metadata": {},
      "outputs": [],
      "source": [
        "# pip install langchain_openai"
      ]
    },
    {
      "cell_type": "code",
      "execution_count": 3,
      "id": "7SSHJqSvSuvv",
      "metadata": {
        "id": "7SSHJqSvSuvv"
      },
      "outputs": [],
      "source": [
        "# pip install Chroma"
      ]
    },
    {
      "cell_type": "code",
      "execution_count": null,
      "id": "55c356cb",
      "metadata": {},
      "outputs": [],
      "source": [
        "# pip install chromadb"
      ]
    },
    {
      "cell_type": "code",
      "execution_count": 6,
      "id": "z1IHWADmLedz",
      "metadata": {
        "colab": {
          "base_uri": "https://localhost:8080/"
        },
        "id": "z1IHWADmLedz",
        "outputId": "05814cf3-1492-441b-fb73-537f6b7ddca5"
      },
      "outputs": [
        {
          "name": "stdout",
          "output_type": "stream",
          "text": [
            "Collecting langchain-google-genai\n",
            "  Downloading langchain_google_genai-1.0.8-py3-none-any.whl.metadata (3.8 kB)\n",
            "Requirement already satisfied: google-generativeai<0.8.0,>=0.7.0 in /usr/local/lib/python3.10/dist-packages (from langchain-google-genai) (0.7.2)\n",
            "Requirement already satisfied: langchain-core<0.3,>=0.2.17 in /usr/local/lib/python3.10/dist-packages (from langchain-google-genai) (0.2.23)\n",
            "Requirement already satisfied: google-ai-generativelanguage==0.6.6 in /usr/local/lib/python3.10/dist-packages (from google-generativeai<0.8.0,>=0.7.0->langchain-google-genai) (0.6.6)\n",
            "Requirement already satisfied: google-api-core in /usr/local/lib/python3.10/dist-packages (from google-generativeai<0.8.0,>=0.7.0->langchain-google-genai) (2.19.1)\n",
            "Requirement already satisfied: google-api-python-client in /usr/local/lib/python3.10/dist-packages (from google-generativeai<0.8.0,>=0.7.0->langchain-google-genai) (2.137.0)\n",
            "Requirement already satisfied: google-auth>=2.15.0 in /usr/local/lib/python3.10/dist-packages (from google-generativeai<0.8.0,>=0.7.0->langchain-google-genai) (2.27.0)\n",
            "Requirement already satisfied: protobuf in /usr/local/lib/python3.10/dist-packages (from google-generativeai<0.8.0,>=0.7.0->langchain-google-genai) (3.20.3)\n",
            "Requirement already satisfied: pydantic in /usr/local/lib/python3.10/dist-packages (from google-generativeai<0.8.0,>=0.7.0->langchain-google-genai) (2.8.2)\n",
            "Requirement already satisfied: tqdm in /usr/local/lib/python3.10/dist-packages (from google-generativeai<0.8.0,>=0.7.0->langchain-google-genai) (4.66.4)\n",
            "Requirement already satisfied: typing-extensions in /usr/local/lib/python3.10/dist-packages (from google-generativeai<0.8.0,>=0.7.0->langchain-google-genai) (4.12.2)\n",
            "Requirement already satisfied: proto-plus<2.0.0dev,>=1.22.3 in /usr/local/lib/python3.10/dist-packages (from google-ai-generativelanguage==0.6.6->google-generativeai<0.8.0,>=0.7.0->langchain-google-genai) (1.24.0)\n",
            "Requirement already satisfied: PyYAML>=5.3 in /usr/local/lib/python3.10/dist-packages (from langchain-core<0.3,>=0.2.17->langchain-google-genai) (6.0.1)\n",
            "Requirement already satisfied: jsonpatch<2.0,>=1.33 in /usr/local/lib/python3.10/dist-packages (from langchain-core<0.3,>=0.2.17->langchain-google-genai) (1.33)\n",
            "Requirement already satisfied: langsmith<0.2.0,>=0.1.75 in /usr/local/lib/python3.10/dist-packages (from langchain-core<0.3,>=0.2.17->langchain-google-genai) (0.1.93)\n",
            "Requirement already satisfied: packaging<25,>=23.2 in /usr/local/lib/python3.10/dist-packages (from langchain-core<0.3,>=0.2.17->langchain-google-genai) (24.1)\n",
            "Requirement already satisfied: tenacity!=8.4.0,<9.0.0,>=8.1.0 in /usr/local/lib/python3.10/dist-packages (from langchain-core<0.3,>=0.2.17->langchain-google-genai) (8.5.0)\n",
            "Requirement already satisfied: googleapis-common-protos<2.0.dev0,>=1.56.2 in /usr/local/lib/python3.10/dist-packages (from google-api-core->google-generativeai<0.8.0,>=0.7.0->langchain-google-genai) (1.63.2)\n",
            "Requirement already satisfied: requests<3.0.0.dev0,>=2.18.0 in /usr/local/lib/python3.10/dist-packages (from google-api-core->google-generativeai<0.8.0,>=0.7.0->langchain-google-genai) (2.31.0)\n",
            "Requirement already satisfied: cachetools<6.0,>=2.0.0 in /usr/local/lib/python3.10/dist-packages (from google-auth>=2.15.0->google-generativeai<0.8.0,>=0.7.0->langchain-google-genai) (5.4.0)\n",
            "Requirement already satisfied: pyasn1-modules>=0.2.1 in /usr/local/lib/python3.10/dist-packages (from google-auth>=2.15.0->google-generativeai<0.8.0,>=0.7.0->langchain-google-genai) (0.4.0)\n",
            "Requirement already satisfied: rsa<5,>=3.1.4 in /usr/local/lib/python3.10/dist-packages (from google-auth>=2.15.0->google-generativeai<0.8.0,>=0.7.0->langchain-google-genai) (4.9)\n",
            "Requirement already satisfied: jsonpointer>=1.9 in /usr/local/lib/python3.10/dist-packages (from jsonpatch<2.0,>=1.33->langchain-core<0.3,>=0.2.17->langchain-google-genai) (3.0.0)\n",
            "Requirement already satisfied: orjson<4.0.0,>=3.9.14 in /usr/local/lib/python3.10/dist-packages (from langsmith<0.2.0,>=0.1.75->langchain-core<0.3,>=0.2.17->langchain-google-genai) (3.10.6)\n",
            "Requirement already satisfied: annotated-types>=0.4.0 in /usr/local/lib/python3.10/dist-packages (from pydantic->google-generativeai<0.8.0,>=0.7.0->langchain-google-genai) (0.7.0)\n",
            "Requirement already satisfied: pydantic-core==2.20.1 in /usr/local/lib/python3.10/dist-packages (from pydantic->google-generativeai<0.8.0,>=0.7.0->langchain-google-genai) (2.20.1)\n",
            "Requirement already satisfied: httplib2<1.dev0,>=0.19.0 in /usr/local/lib/python3.10/dist-packages (from google-api-python-client->google-generativeai<0.8.0,>=0.7.0->langchain-google-genai) (0.22.0)\n",
            "Requirement already satisfied: google-auth-httplib2<1.0.0,>=0.2.0 in /usr/local/lib/python3.10/dist-packages (from google-api-python-client->google-generativeai<0.8.0,>=0.7.0->langchain-google-genai) (0.2.0)\n",
            "Requirement already satisfied: uritemplate<5,>=3.0.1 in /usr/local/lib/python3.10/dist-packages (from google-api-python-client->google-generativeai<0.8.0,>=0.7.0->langchain-google-genai) (4.1.1)\n",
            "Requirement already satisfied: grpcio<2.0dev,>=1.33.2 in /usr/local/lib/python3.10/dist-packages (from google-api-core[grpc]!=2.0.*,!=2.1.*,!=2.10.*,!=2.2.*,!=2.3.*,!=2.4.*,!=2.5.*,!=2.6.*,!=2.7.*,!=2.8.*,!=2.9.*,<3.0.0dev,>=1.34.1->google-ai-generativelanguage==0.6.6->google-generativeai<0.8.0,>=0.7.0->langchain-google-genai) (1.64.1)\n",
            "Requirement already satisfied: grpcio-status<2.0.dev0,>=1.33.2 in /usr/local/lib/python3.10/dist-packages (from google-api-core[grpc]!=2.0.*,!=2.1.*,!=2.10.*,!=2.2.*,!=2.3.*,!=2.4.*,!=2.5.*,!=2.6.*,!=2.7.*,!=2.8.*,!=2.9.*,<3.0.0dev,>=1.34.1->google-ai-generativelanguage==0.6.6->google-generativeai<0.8.0,>=0.7.0->langchain-google-genai) (1.48.2)\n",
            "Requirement already satisfied: pyparsing!=3.0.0,!=3.0.1,!=3.0.2,!=3.0.3,<4,>=2.4.2 in /usr/local/lib/python3.10/dist-packages (from httplib2<1.dev0,>=0.19.0->google-api-python-client->google-generativeai<0.8.0,>=0.7.0->langchain-google-genai) (3.1.2)\n",
            "Requirement already satisfied: pyasn1<0.7.0,>=0.4.6 in /usr/local/lib/python3.10/dist-packages (from pyasn1-modules>=0.2.1->google-auth>=2.15.0->google-generativeai<0.8.0,>=0.7.0->langchain-google-genai) (0.6.0)\n",
            "Requirement already satisfied: charset-normalizer<4,>=2 in /usr/local/lib/python3.10/dist-packages (from requests<3.0.0.dev0,>=2.18.0->google-api-core->google-generativeai<0.8.0,>=0.7.0->langchain-google-genai) (3.3.2)\n",
            "Requirement already satisfied: idna<4,>=2.5 in /usr/local/lib/python3.10/dist-packages (from requests<3.0.0.dev0,>=2.18.0->google-api-core->google-generativeai<0.8.0,>=0.7.0->langchain-google-genai) (3.7)\n",
            "Requirement already satisfied: urllib3<3,>=1.21.1 in /usr/local/lib/python3.10/dist-packages (from requests<3.0.0.dev0,>=2.18.0->google-api-core->google-generativeai<0.8.0,>=0.7.0->langchain-google-genai) (2.0.7)\n",
            "Requirement already satisfied: certifi>=2017.4.17 in /usr/local/lib/python3.10/dist-packages (from requests<3.0.0.dev0,>=2.18.0->google-api-core->google-generativeai<0.8.0,>=0.7.0->langchain-google-genai) (2024.7.4)\n",
            "Downloading langchain_google_genai-1.0.8-py3-none-any.whl (38 kB)\n",
            "Installing collected packages: langchain-google-genai\n",
            "Successfully installed langchain-google-genai-1.0.8\n"
          ]
        }
      ],
      "source": [
        "# pip install langchain-google-genai"
      ]
    },
    {
      "cell_type": "code",
      "execution_count": 7,
      "id": "b1fc20e5",
      "metadata": {
        "id": "b1fc20e5"
      },
      "outputs": [],
      "source": [
        "import os\n",
        "\n",
        "# Import classes from modules\n",
        "from langchain.chains import ConversationalRetrievalChain\n",
        "from langchain.text_splitter import CharacterTextSplitter\n",
        "from langchain.prompts import PromptTemplate\n",
        "from langchain.vectorstores import Chroma\n",
        "from langchain_openai import OpenAIEmbeddings\n",
        "from langchain_google_genai import ChatGoogleGenerativeAI"
      ]
    },
    {
      "cell_type": "code",
      "execution_count": 8,
      "id": "387ff8f7",
      "metadata": {
        "id": "387ff8f7"
      },
      "outputs": [],
      "source": [
        "# Generate API KEY from Gemini and OpenAI website and define as a variable.\n",
        "os.environ[\"GOOGLE_API_KEY\"] = \"YOUR_API_KEYS\"\n",
        "os.environ[\"OPENAI_API_KEY\"] = \"YOUR_API_KEYS\""
      ]
    },
    {
      "cell_type": "code",
      "execution_count": 9,
      "id": "66a7cd76-10bc-4365-91e3-a27c0d0e9d9e",
      "metadata": {
        "id": "66a7cd76-10bc-4365-91e3-a27c0d0e9d9e"
      },
      "outputs": [],
      "source": [
        "import json\n",
        "from typing import overload\n",
        "from langchain_core.documents import Document #type: ignore\n",
        "\n",
        "\n",
        "@overload\n",
        "def extract_data(path: str, main_key: str)->list[Document]:...\n",
        "\n",
        "@overload\n",
        "def extract_data(path: str)->list[Document]:...\n",
        "\n",
        "def extract_data(path: str, main_key:str=\"items\") -> list[Document]:\n",
        "    documents: list[Document] = []\n",
        "    with open(path, \"r\", encoding='utf8') as json_file:\n",
        "        data:list[dict[str, str]] = json.load(json_file)[main_key]\n",
        "\n",
        "        for each_data in data:\n",
        "            page_content: str = \"\"\n",
        "            for k in each_data:\n",
        "                page_content = page_content + f\"{k} {each_data[k]}\"\n",
        "            current_document = Document(\n",
        "                page_content=page_content,\n",
        "            )\n",
        "            documents.append(current_document)\n",
        "    return documents"
      ]
    },
    {
      "cell_type": "code",
      "execution_count": 10,
      "id": "55c05de6-0701-48c4-a014-4e38277ee1fd",
      "metadata": {
        "id": "55c05de6-0701-48c4-a014-4e38277ee1fd"
      },
      "outputs": [],
      "source": [
        "json_file_path=\"fruit.json\"\n",
        "data = extract_data(json_file_path)"
      ]
    },
    {
      "cell_type": "code",
      "execution_count": 11,
      "id": "f0ca19b7",
      "metadata": {
        "colab": {
          "base_uri": "https://localhost:8080/"
        },
        "id": "f0ca19b7",
        "outputId": "93a365e8-57f9-42c9-e3c5-2fc443299339",
        "scrolled": true
      },
      "outputs": [
        {
          "data": {
            "text/plain": [
              "[Document(page_content='ชื่อ มะม่วงรสชาติ หวานสรรพคุณ ช่วยย่อยอาหาร, มีวิตามินซีสูงราคา 30 บาท/กิโลกรัม'),\n",
              " Document(page_content='ชื่อ ทุเรียนรสชาติ หวาน, มันสรรพคุณ ให้พลังงานสูง, มีวิตามินบีราคา 150 บาท/กิโลกรัม'),\n",
              " Document(page_content='ชื่อ ส้มรสชาติ หวาน, เปรี้ยวสรรพคุณ มีวิตามินซีสูง, ช่วยเสริมสร้างภูมิคุ้มกันราคา 60 บาท/กิโลกรัม'),\n",
              " Document(page_content='ชื่อ แอปเปิ้ลรสชาติ หวาน, กรอบสรรพคุณ ช่วยลดคอเลสเตอรอล, มีไฟเบอร์สูงราคา 80 บาท/กิโลกรัม'),\n",
              " Document(page_content='ชื่อ กล้วยรสชาติ หวานสรรพคุณ ช่วยให้พลังงาน, มีโพแทสเซียมสูงราคา 25 บาท/กิโลกรัม'),\n",
              " Document(page_content='ชื่อ สตรอว์เบอร์รีรสชาติ หวาน, เปรี้ยวสรรพคุณ มีวิตามินซีสูง, ช่วยบำรุงผิวราคา 120 บาท/กิโลกรัม'),\n",
              " Document(page_content='ชื่อ แตงโมรสชาติ หวาน, ฉ่ำสรรพคุณ ช่วยดับกระหาย, มีวิตามินเอราคา 20 บาท/กิโลกรัม'),\n",
              " Document(page_content='ชื่อ มังคุดรสชาติ หวาน, เปรี้ยวสรรพคุณ ช่วยลดการอักเสบ, มีสารต้านอนุมูลอิสระราคา 50 บาท/กิโลกรัม'),\n",
              " Document(page_content='ชื่อ เงาะรสชาติ หวาน, ฉ่ำสรรพคุณ ช่วยบำรุงผิว, มีวิตามินซีราคา 40 บาท/กิโลกรัม'),\n",
              " Document(page_content='ชื่อ ลำไยรสชาติ หวานสรรพคุณ ช่วยบำรุงเลือด, มีวิตามินบีราคา 45 บาท/กิโลกรัม'),\n",
              " Document(page_content='ชื่อ ลิ้นจี่รสชาติ หวาน, เปรี้ยวสรรพคุณ ช่วยบำรุงหัวใจ, มีวิตามินซีราคา 70 บาท/กิโลกรัม'),\n",
              " Document(page_content='ชื่อ สับปะรดรสชาติ หวาน, เปรี้ยวสรรพคุณ ช่วยย่อยอาหาร, มีวิตามินซีสูงราคา 30 บาท/กิโลกรัม'),\n",
              " Document(page_content='ชื่อ ลูกแพร์รสชาติ หวาน, กรอบสรรพคุณ ช่วยบำรุงผิว, มีไฟเบอร์สูงราคา 90 บาท/กิโลกรัม'),\n",
              " Document(page_content='ชื่อ มะละกอรสชาติ หวานสรรพคุณ ช่วยย่อยอาหาร, มีวิตามินเอราคา 25 บาท/กิโลกรัม'),\n",
              " Document(page_content='ชื่อ มะนาวรสชาติ เปรี้ยวสรรพคุณ ช่วยเสริมสร้างภูมิคุ้มกัน, มีวิตามินซีสูงราคา 40 บาท/กิโลกรัม'),\n",
              " Document(page_content='ชื่อ เสาวรสรสชาติ เปรี้ยว, หวานสรรพคุณ ช่วยบำรุงผิว, มีวิตามินซีสูงราคา 100 บาท/กิโลกรัม'),\n",
              " Document(page_content='ชื่อ แก้วมังกรรสชาติ หวาน, ฉ่ำสรรพคุณ ช่วยบำรุงผิว, มีไฟเบอร์สูงราคา 60 บาท/กิโลกรัม'),\n",
              " Document(page_content='ชื่อ ลูกพลับรสชาติ หวาน, กรอบสรรพคุณ ช่วยบำรุงสายตา, มีวิตามินเอราคา 120 บาท/กิโลกรัม'),\n",
              " Document(page_content='ชื่อ ทับทิมรสชาติ หวาน, เปรี้ยวสรรพคุณ ช่วยบำรุงหัวใจ, มีสารต้านอนุมูลอิสระราคา 80 บาท/กิโลกรัม'),\n",
              " Document(page_content='ชื่อ กีวี่รสชาติ เปรี้ยว, หวานสรรพคุณ มีวิตามินซีสูง, ช่วยบำรุงผิวราคา 150 บาท/กิโลกรัม'),\n",
              " Document(page_content='ชื่อ องุ่นรสชาติ หวาน, ฉ่ำสรรพคุณ ช่วยบำรุงหัวใจ, มีสารต้านอนุมูลอิสระราคา 100 บาท/กิโลกรัม'),\n",
              " Document(page_content='ชื่อ ลูกท้อรสชาติ หวาน, กรอบสรรพคุณ ช่วยบำรุงผิว, มีวิตามินซีราคา 120 บาท/กิโลกรัม'),\n",
              " Document(page_content='ชื่อ ลูกพรุนรสชาติ หวาน, ฉ่ำสรรพคุณ ช่วยบำรุงเลือด, มีไฟเบอร์สูงราคา 180 บาท/กิโลกรัม'),\n",
              " Document(page_content='ชื่อ ลูกฟิกรสชาติ หวานสรรพคุณ ช่วยบำรุงผิว, มีไฟเบอร์สูงราคา 200 บาท/กิโลกรัม'),\n",
              " Document(page_content='ชื่อ ลูกหว้ารสชาติ หวาน, เปรี้ยวสรรพคุณ ช่วยลดคอเลสเตอรอล, มีวิตามินซีราคา 90 บาท/กิโลกรัม'),\n",
              " Document(page_content='ชื่อ มะเฟืองรสชาติ หวาน, เปรี้ยวสรรพคุณ ช่วยย่อยอาหาร, มีวิตามินซีสูงราคา 50 บาท/กิโลกรัม'),\n",
              " Document(page_content='ชื่อ มะยมรสชาติ เปรี้ยวสรรพคุณ ช่วยบำรุงผิว, มีวิตามินซีราคา 30 บาท/กิโลกรัม'),\n",
              " Document(page_content='ชื่อ มะไฟรสชาติ เปรี้ยว, หวานสรรพคุณ ช่วยย่อยอาหาร, มีวิตามินซีราคา 40 บาท/กิโลกรัม'),\n",
              " Document(page_content='ชื่อ ขนุนรสชาติ หวานสรรพคุณ ช่วยบำรุงสายตา, มีวิตามินเอราคา 25 บาท/กิโลกรัม'),\n",
              " Document(page_content='ชื่อ ลูกแพร์น้อยรสชาติ หวาน, กรอบสรรพคุณ ช่วยบำรุงผิว, มีไฟเบอร์สูงราคา 70 บาท/กิโลกรัม')]"
            ]
          },
          "execution_count": 11,
          "metadata": {},
          "output_type": "execute_result"
        }
      ],
      "source": [
        "data"
      ]
    },
    {
      "cell_type": "code",
      "execution_count": 12,
      "id": "33740cfa",
      "metadata": {
        "id": "33740cfa"
      },
      "outputs": [],
      "source": [
        "text_splitter = CharacterTextSplitter(separator=\"\\n\\n\", chunk_size=1000, chunk_overlap=0)\n",
        "texts = text_splitter.split_documents(data)"
      ]
    },
    {
      "cell_type": "code",
      "execution_count": 13,
      "id": "693fa4ba",
      "metadata": {
        "colab": {
          "base_uri": "https://localhost:8080/"
        },
        "id": "693fa4ba",
        "outputId": "390344e8-395f-4a66-bcf8-1d83ab7bd91d"
      },
      "outputs": [
        {
          "data": {
            "text/plain": [
              "[Document(page_content='ชื่อ มะม่วงรสชาติ หวานสรรพคุณ ช่วยย่อยอาหาร, มีวิตามินซีสูงราคา 30 บาท/กิโลกรัม'),\n",
              " Document(page_content='ชื่อ ทุเรียนรสชาติ หวาน, มันสรรพคุณ ให้พลังงานสูง, มีวิตามินบีราคา 150 บาท/กิโลกรัม'),\n",
              " Document(page_content='ชื่อ ส้มรสชาติ หวาน, เปรี้ยวสรรพคุณ มีวิตามินซีสูง, ช่วยเสริมสร้างภูมิคุ้มกันราคา 60 บาท/กิโลกรัม'),\n",
              " Document(page_content='ชื่อ แอปเปิ้ลรสชาติ หวาน, กรอบสรรพคุณ ช่วยลดคอเลสเตอรอล, มีไฟเบอร์สูงราคา 80 บาท/กิโลกรัม'),\n",
              " Document(page_content='ชื่อ กล้วยรสชาติ หวานสรรพคุณ ช่วยให้พลังงาน, มีโพแทสเซียมสูงราคา 25 บาท/กิโลกรัม'),\n",
              " Document(page_content='ชื่อ สตรอว์เบอร์รีรสชาติ หวาน, เปรี้ยวสรรพคุณ มีวิตามินซีสูง, ช่วยบำรุงผิวราคา 120 บาท/กิโลกรัม'),\n",
              " Document(page_content='ชื่อ แตงโมรสชาติ หวาน, ฉ่ำสรรพคุณ ช่วยดับกระหาย, มีวิตามินเอราคา 20 บาท/กิโลกรัม'),\n",
              " Document(page_content='ชื่อ มังคุดรสชาติ หวาน, เปรี้ยวสรรพคุณ ช่วยลดการอักเสบ, มีสารต้านอนุมูลอิสระราคา 50 บาท/กิโลกรัม'),\n",
              " Document(page_content='ชื่อ เงาะรสชาติ หวาน, ฉ่ำสรรพคุณ ช่วยบำรุงผิว, มีวิตามินซีราคา 40 บาท/กิโลกรัม'),\n",
              " Document(page_content='ชื่อ ลำไยรสชาติ หวานสรรพคุณ ช่วยบำรุงเลือด, มีวิตามินบีราคา 45 บาท/กิโลกรัม'),\n",
              " Document(page_content='ชื่อ ลิ้นจี่รสชาติ หวาน, เปรี้ยวสรรพคุณ ช่วยบำรุงหัวใจ, มีวิตามินซีราคา 70 บาท/กิโลกรัม'),\n",
              " Document(page_content='ชื่อ สับปะรดรสชาติ หวาน, เปรี้ยวสรรพคุณ ช่วยย่อยอาหาร, มีวิตามินซีสูงราคา 30 บาท/กิโลกรัม'),\n",
              " Document(page_content='ชื่อ ลูกแพร์รสชาติ หวาน, กรอบสรรพคุณ ช่วยบำรุงผิว, มีไฟเบอร์สูงราคา 90 บาท/กิโลกรัม'),\n",
              " Document(page_content='ชื่อ มะละกอรสชาติ หวานสรรพคุณ ช่วยย่อยอาหาร, มีวิตามินเอราคา 25 บาท/กิโลกรัม'),\n",
              " Document(page_content='ชื่อ มะนาวรสชาติ เปรี้ยวสรรพคุณ ช่วยเสริมสร้างภูมิคุ้มกัน, มีวิตามินซีสูงราคา 40 บาท/กิโลกรัม'),\n",
              " Document(page_content='ชื่อ เสาวรสรสชาติ เปรี้ยว, หวานสรรพคุณ ช่วยบำรุงผิว, มีวิตามินซีสูงราคา 100 บาท/กิโลกรัม'),\n",
              " Document(page_content='ชื่อ แก้วมังกรรสชาติ หวาน, ฉ่ำสรรพคุณ ช่วยบำรุงผิว, มีไฟเบอร์สูงราคา 60 บาท/กิโลกรัม'),\n",
              " Document(page_content='ชื่อ ลูกพลับรสชาติ หวาน, กรอบสรรพคุณ ช่วยบำรุงสายตา, มีวิตามินเอราคา 120 บาท/กิโลกรัม'),\n",
              " Document(page_content='ชื่อ ทับทิมรสชาติ หวาน, เปรี้ยวสรรพคุณ ช่วยบำรุงหัวใจ, มีสารต้านอนุมูลอิสระราคา 80 บาท/กิโลกรัม'),\n",
              " Document(page_content='ชื่อ กีวี่รสชาติ เปรี้ยว, หวานสรรพคุณ มีวิตามินซีสูง, ช่วยบำรุงผิวราคา 150 บาท/กิโลกรัม'),\n",
              " Document(page_content='ชื่อ องุ่นรสชาติ หวาน, ฉ่ำสรรพคุณ ช่วยบำรุงหัวใจ, มีสารต้านอนุมูลอิสระราคา 100 บาท/กิโลกรัม'),\n",
              " Document(page_content='ชื่อ ลูกท้อรสชาติ หวาน, กรอบสรรพคุณ ช่วยบำรุงผิว, มีวิตามินซีราคา 120 บาท/กิโลกรัม'),\n",
              " Document(page_content='ชื่อ ลูกพรุนรสชาติ หวาน, ฉ่ำสรรพคุณ ช่วยบำรุงเลือด, มีไฟเบอร์สูงราคา 180 บาท/กิโลกรัม'),\n",
              " Document(page_content='ชื่อ ลูกฟิกรสชาติ หวานสรรพคุณ ช่วยบำรุงผิว, มีไฟเบอร์สูงราคา 200 บาท/กิโลกรัม'),\n",
              " Document(page_content='ชื่อ ลูกหว้ารสชาติ หวาน, เปรี้ยวสรรพคุณ ช่วยลดคอเลสเตอรอล, มีวิตามินซีราคา 90 บาท/กิโลกรัม'),\n",
              " Document(page_content='ชื่อ มะเฟืองรสชาติ หวาน, เปรี้ยวสรรพคุณ ช่วยย่อยอาหาร, มีวิตามินซีสูงราคา 50 บาท/กิโลกรัม'),\n",
              " Document(page_content='ชื่อ มะยมรสชาติ เปรี้ยวสรรพคุณ ช่วยบำรุงผิว, มีวิตามินซีราคา 30 บาท/กิโลกรัม'),\n",
              " Document(page_content='ชื่อ มะไฟรสชาติ เปรี้ยว, หวานสรรพคุณ ช่วยย่อยอาหาร, มีวิตามินซีราคา 40 บาท/กิโลกรัม'),\n",
              " Document(page_content='ชื่อ ขนุนรสชาติ หวานสรรพคุณ ช่วยบำรุงสายตา, มีวิตามินเอราคา 25 บาท/กิโลกรัม'),\n",
              " Document(page_content='ชื่อ ลูกแพร์น้อยรสชาติ หวาน, กรอบสรรพคุณ ช่วยบำรุงผิว, มีไฟเบอร์สูงราคา 70 บาท/กิโลกรัม')]"
            ]
          },
          "execution_count": 13,
          "metadata": {},
          "output_type": "execute_result"
        }
      ],
      "source": [
        "texts"
      ]
    },
    {
      "cell_type": "code",
      "execution_count": 14,
      "id": "8c81a598",
      "metadata": {
        "id": "8c81a598"
      },
      "outputs": [],
      "source": [
        "# This part is used for embedding the docs and storing them into Vector DB and initializing the retriever.\n",
        "embeddings = OpenAIEmbeddings()\n",
        "docsearch = Chroma.from_documents(texts, embeddings)"
      ]
    },
    {
      "cell_type": "code",
      "execution_count": 15,
      "id": "b0019df9-f4a0-42f7-9606-cbf1b3000064",
      "metadata": {
        "id": "b0019df9-f4a0-42f7-9606-cbf1b3000064"
      },
      "outputs": [],
      "source": [
        "custom_template = PromptTemplate(\n",
        "    input_variables=[\"context\", \"question\"],\n",
        "    template=\"\"\"\n",
        "    You are an AI thai language model assistant.\n",
        "    You are an expert at answering questions about fruits.\n",
        "    Answer the question based ONLY on the following context.\n",
        "\n",
        "\n",
        "\n",
        "    {context}\n",
        "    Original question: {question}\"\"\",\n",
        ")"
      ]
    },
    {
      "cell_type": "code",
      "execution_count": 16,
      "id": "99cb075f-25ff-4564-ad13-eec37e97dd13",
      "metadata": {
        "id": "99cb075f-25ff-4564-ad13-eec37e97dd13"
      },
      "outputs": [],
      "source": [
        "# Create the language model\n",
        "llm1 = ChatGoogleGenerativeAI(model=\"gemini-1.5-flash\")\n",
        "\n",
        "# Create the chain\n",
        "chain1 = ConversationalRetrievalChain.from_llm(\n",
        "    llm=llm1,\n",
        "    retriever=docsearch.as_retriever(),\n",
        "    combine_docs_chain_kwargs={\"prompt\": custom_template}\n",
        ")"
      ]
    },
    {
      "cell_type": "code",
      "execution_count": 17,
      "id": "6f48ec69",
      "metadata": {
        "colab": {
          "base_uri": "https://localhost:8080/"
        },
        "id": "6f48ec69",
        "outputId": "e800ce6b-9ff2-454e-dac2-2699ee3b2173"
      },
      "outputs": [
        {
          "name": "stdout",
          "output_type": "stream",
          "text": [
            "User: สรรพคุณของกล้วย\n",
            "Chatbot: สรรพคุณของกล้วยคือ ช่วยให้พลังงาน และมีโพแทสเซียมสูง \n",
            "\n",
            "User: q\n"
          ]
        }
      ],
      "source": [
        "chat_history = []\n",
        "query = None  # Initialize query to avoid potential reference error\n",
        "\n",
        "while True:\n",
        "    if not query:\n",
        "        query = input(\"User: \")\n",
        "    if query in ['quit', 'q', 'exit']:\n",
        "        break\n",
        "    result = chain1.invoke({\"question\": query, \"chat_history\": chat_history})\n",
        "    print(\"Chatbot:\", result['answer'])\n",
        "\n",
        "    chat_history.append((query, result['answer']))\n",
        "    query = None"
      ]
    }
  ],
  "metadata": {
    "colab": {
      "provenance": []
    },
    "kernelspec": {
      "display_name": "Python 3 (ipykernel)",
      "language": "python",
      "name": "python3"
    },
    "language_info": {
      "codemirror_mode": {
        "name": "ipython",
        "version": 3
      },
      "file_extension": ".py",
      "mimetype": "text/x-python",
      "name": "python",
      "nbconvert_exporter": "python",
      "pygments_lexer": "ipython3",
      "version": "3.11.7"
    }
  },
  "nbformat": 4,
  "nbformat_minor": 5
}
