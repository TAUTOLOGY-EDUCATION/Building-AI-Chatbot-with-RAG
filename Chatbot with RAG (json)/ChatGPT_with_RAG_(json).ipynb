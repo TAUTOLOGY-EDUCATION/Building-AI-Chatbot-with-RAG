{
 "cells": [
  {
   "cell_type": "code",
   "execution_count": 3,
   "id": "t1nYtOkgSNDT",
   "metadata": {
    "colab": {
     "base_uri": "https://localhost:8080/"
    },
    "id": "t1nYtOkgSNDT",
    "outputId": "f4bfc833-50e4-4087-987c-8728ce85b6b5"
   },
   "outputs": [],
   "source": [
    "#pip install langchain_openai"
   ]
  },
  {
   "cell_type": "code",
   "execution_count": 4,
   "id": "7SSHJqSvSuvv",
   "metadata": {
    "colab": {
     "base_uri": "https://localhost:8080/"
    },
    "id": "7SSHJqSvSuvv",
    "outputId": "b930f140-de9a-4be3-bf9d-aa0bbd0ab2bc"
   },
   "outputs": [],
   "source": [
    "#pip install Chroma"
   ]
  },
  {
   "cell_type": "code",
   "execution_count": 6,
   "id": "b1fc20e5",
   "metadata": {
    "id": "b1fc20e5"
   },
   "outputs": [],
   "source": [
    "import os\n",
    "\n",
    "# Import classes from modules\n",
    "from langchain.chains import ConversationalRetrievalChain\n",
    "from langchain.text_splitter import CharacterTextSplitter\n",
    "from langchain.prompts import PromptTemplate\n",
    "from langchain.vectorstores import Chroma\n",
    "from langchain_openai import OpenAIEmbeddings\n",
    "from langchain_openai import ChatOpenAI"
   ]
  },
  {
   "cell_type": "code",
   "execution_count": 7,
   "id": "387ff8f7",
   "metadata": {
    "id": "387ff8f7"
   },
   "outputs": [],
   "source": [
    "# Generate API KEY from OPENAI website and define as a variable.\n",
    "os.environ[\"OPENAI_API_KEY\"] = \"YOUR_API_KEYS\""
   ]
  },
  {
   "cell_type": "code",
   "execution_count": 8,
   "id": "66a7cd76-10bc-4365-91e3-a27c0d0e9d9e",
   "metadata": {
    "id": "66a7cd76-10bc-4365-91e3-a27c0d0e9d9e"
   },
   "outputs": [],
   "source": [
    "import json\n",
    "from typing import overload\n",
    "from langchain_core.documents import Document #type: ignore\n",
    "\n",
    "\n",
    "@overload\n",
    "def extract_data(path: str, main_key: str)->list[Document]:...\n",
    "\n",
    "@overload\n",
    "def extract_data(path: str)->list[Document]:...\n",
    "\n",
    "def extract_data(path: str, main_key:str=\"items\") -> list[Document]:\n",
    "    documents: list[Document] = []\n",
    "    with open(path, \"r\", encoding='utf8') as json_file:\n",
    "        data:list[dict[str, str]] = json.load(json_file)[main_key]\n",
    "\n",
    "        for each_data in data:\n",
    "            page_content: str = \"\"\n",
    "            for k in each_data:\n",
    "                page_content = page_content + f\"{k} {each_data[k]}\"\n",
    "            current_document = Document(\n",
    "                page_content=page_content,\n",
    "            )\n",
    "            documents.append(current_document)\n",
    "    return documents"
   ]
  },
  {
   "cell_type": "code",
   "execution_count": 9,
   "id": "55c05de6-0701-48c4-a014-4e38277ee1fd",
   "metadata": {
    "id": "55c05de6-0701-48c4-a014-4e38277ee1fd"
   },
   "outputs": [],
   "source": [
    "json_file_path=\"fruit.json\"\n",
    "data = extract_data(json_file_path)"
   ]
  },
  {
   "cell_type": "code",
   "execution_count": 10,
   "id": "f0ca19b7",
   "metadata": {
    "id": "f0ca19b7",
    "scrolled": true
   },
   "outputs": [
    {
     "data": {
      "text/plain": [
       "[Document(page_content='ชื่อ มะม่วงรสชาติ หวานสรรพคุณ ช่วยย่อยอาหาร, มีวิตามินซีสูงราคา 30 บาท/กิโลกรัม'),\n",
       " Document(page_content='ชื่อ ทุเรียนรสชาติ หวาน, มันสรรพคุณ ให้พลังงานสูง, มีวิตามินบีราคา 150 บาท/กิโลกรัม'),\n",
       " Document(page_content='ชื่อ ส้มรสชาติ หวาน, เปรี้ยวสรรพคุณ มีวิตามินซีสูง, ช่วยเสริมสร้างภูมิคุ้มกันราคา 60 บาท/กิโลกรัม'),\n",
       " Document(page_content='ชื่อ แอปเปิ้ลรสชาติ หวาน, กรอบสรรพคุณ ช่วยลดคอเลสเตอรอล, มีไฟเบอร์สูงราคา 80 บาท/กิโลกรัม'),\n",
       " Document(page_content='ชื่อ กล้วยรสชาติ หวานสรรพคุณ ช่วยให้พลังงาน, มีโพแทสเซียมสูงราคา 25 บาท/กิโลกรัม'),\n",
       " Document(page_content='ชื่อ สตรอว์เบอร์รีรสชาติ หวาน, เปรี้ยวสรรพคุณ มีวิตามินซีสูง, ช่วยบำรุงผิวราคา 120 บาท/กิโลกรัม'),\n",
       " Document(page_content='ชื่อ แตงโมรสชาติ หวาน, ฉ่ำสรรพคุณ ช่วยดับกระหาย, มีวิตามินเอราคา 20 บาท/กิโลกรัม'),\n",
       " Document(page_content='ชื่อ มังคุดรสชาติ หวาน, เปรี้ยวสรรพคุณ ช่วยลดการอักเสบ, มีสารต้านอนุมูลอิสระราคา 50 บาท/กิโลกรัม'),\n",
       " Document(page_content='ชื่อ เงาะรสชาติ หวาน, ฉ่ำสรรพคุณ ช่วยบำรุงผิว, มีวิตามินซีราคา 40 บาท/กิโลกรัม'),\n",
       " Document(page_content='ชื่อ ลำไยรสชาติ หวานสรรพคุณ ช่วยบำรุงเลือด, มีวิตามินบีราคา 45 บาท/กิโลกรัม'),\n",
       " Document(page_content='ชื่อ ลิ้นจี่รสชาติ หวาน, เปรี้ยวสรรพคุณ ช่วยบำรุงหัวใจ, มีวิตามินซีราคา 70 บาท/กิโลกรัม'),\n",
       " Document(page_content='ชื่อ สับปะรดรสชาติ หวาน, เปรี้ยวสรรพคุณ ช่วยย่อยอาหาร, มีวิตามินซีสูงราคา 30 บาท/กิโลกรัม'),\n",
       " Document(page_content='ชื่อ ลูกแพร์รสชาติ หวาน, กรอบสรรพคุณ ช่วยบำรุงผิว, มีไฟเบอร์สูงราคา 90 บาท/กิโลกรัม'),\n",
       " Document(page_content='ชื่อ มะละกอรสชาติ หวานสรรพคุณ ช่วยย่อยอาหาร, มีวิตามินเอราคา 25 บาท/กิโลกรัม'),\n",
       " Document(page_content='ชื่อ มะนาวรสชาติ เปรี้ยวสรรพคุณ ช่วยเสริมสร้างภูมิคุ้มกัน, มีวิตามินซีสูงราคา 40 บาท/กิโลกรัม'),\n",
       " Document(page_content='ชื่อ เสาวรสรสชาติ เปรี้ยว, หวานสรรพคุณ ช่วยบำรุงผิว, มีวิตามินซีสูงราคา 100 บาท/กิโลกรัม'),\n",
       " Document(page_content='ชื่อ แก้วมังกรรสชาติ หวาน, ฉ่ำสรรพคุณ ช่วยบำรุงผิว, มีไฟเบอร์สูงราคา 60 บาท/กิโลกรัม'),\n",
       " Document(page_content='ชื่อ ลูกพลับรสชาติ หวาน, กรอบสรรพคุณ ช่วยบำรุงสายตา, มีวิตามินเอราคา 120 บาท/กิโลกรัม'),\n",
       " Document(page_content='ชื่อ ทับทิมรสชาติ หวาน, เปรี้ยวสรรพคุณ ช่วยบำรุงหัวใจ, มีสารต้านอนุมูลอิสระราคา 80 บาท/กิโลกรัม'),\n",
       " Document(page_content='ชื่อ กีวี่รสชาติ เปรี้ยว, หวานสรรพคุณ มีวิตามินซีสูง, ช่วยบำรุงผิวราคา 150 บาท/กิโลกรัม'),\n",
       " Document(page_content='ชื่อ องุ่นรสชาติ หวาน, ฉ่ำสรรพคุณ ช่วยบำรุงหัวใจ, มีสารต้านอนุมูลอิสระราคา 100 บาท/กิโลกรัม'),\n",
       " Document(page_content='ชื่อ ลูกท้อรสชาติ หวาน, กรอบสรรพคุณ ช่วยบำรุงผิว, มีวิตามินซีราคา 120 บาท/กิโลกรัม'),\n",
       " Document(page_content='ชื่อ ลูกพรุนรสชาติ หวาน, ฉ่ำสรรพคุณ ช่วยบำรุงเลือด, มีไฟเบอร์สูงราคา 180 บาท/กิโลกรัม'),\n",
       " Document(page_content='ชื่อ ลูกฟิกรสชาติ หวานสรรพคุณ ช่วยบำรุงผิว, มีไฟเบอร์สูงราคา 200 บาท/กิโลกรัม'),\n",
       " Document(page_content='ชื่อ ลูกหว้ารสชาติ หวาน, เปรี้ยวสรรพคุณ ช่วยลดคอเลสเตอรอล, มีวิตามินซีราคา 90 บาท/กิโลกรัม'),\n",
       " Document(page_content='ชื่อ มะเฟืองรสชาติ หวาน, เปรี้ยวสรรพคุณ ช่วยย่อยอาหาร, มีวิตามินซีสูงราคา 50 บาท/กิโลกรัม'),\n",
       " Document(page_content='ชื่อ มะยมรสชาติ เปรี้ยวสรรพคุณ ช่วยบำรุงผิว, มีวิตามินซีราคา 30 บาท/กิโลกรัม'),\n",
       " Document(page_content='ชื่อ มะไฟรสชาติ เปรี้ยว, หวานสรรพคุณ ช่วยย่อยอาหาร, มีวิตามินซีราคา 40 บาท/กิโลกรัม'),\n",
       " Document(page_content='ชื่อ ขนุนรสชาติ หวานสรรพคุณ ช่วยบำรุงสายตา, มีวิตามินเอราคา 25 บาท/กิโลกรัม'),\n",
       " Document(page_content='ชื่อ ลูกแพร์น้อยรสชาติ หวาน, กรอบสรรพคุณ ช่วยบำรุงผิว, มีไฟเบอร์สูงราคา 70 บาท/กิโลกรัม')]"
      ]
     },
     "execution_count": 10,
     "metadata": {},
     "output_type": "execute_result"
    }
   ],
   "source": [
    "data"
   ]
  },
  {
   "cell_type": "code",
   "execution_count": 11,
   "id": "33740cfa",
   "metadata": {
    "id": "33740cfa"
   },
   "outputs": [],
   "source": [
    "text_splitter = CharacterTextSplitter(separator=\"\\n\\n\", chunk_size=1000, chunk_overlap=0)\n",
    "texts = text_splitter.split_documents(data)"
   ]
  },
  {
   "cell_type": "code",
   "execution_count": 12,
   "id": "693fa4ba",
   "metadata": {
    "id": "693fa4ba"
   },
   "outputs": [
    {
     "data": {
      "text/plain": [
       "[Document(page_content='ชื่อ มะม่วงรสชาติ หวานสรรพคุณ ช่วยย่อยอาหาร, มีวิตามินซีสูงราคา 30 บาท/กิโลกรัม'),\n",
       " Document(page_content='ชื่อ ทุเรียนรสชาติ หวาน, มันสรรพคุณ ให้พลังงานสูง, มีวิตามินบีราคา 150 บาท/กิโลกรัม'),\n",
       " Document(page_content='ชื่อ ส้มรสชาติ หวาน, เปรี้ยวสรรพคุณ มีวิตามินซีสูง, ช่วยเสริมสร้างภูมิคุ้มกันราคา 60 บาท/กิโลกรัม'),\n",
       " Document(page_content='ชื่อ แอปเปิ้ลรสชาติ หวาน, กรอบสรรพคุณ ช่วยลดคอเลสเตอรอล, มีไฟเบอร์สูงราคา 80 บาท/กิโลกรัม'),\n",
       " Document(page_content='ชื่อ กล้วยรสชาติ หวานสรรพคุณ ช่วยให้พลังงาน, มีโพแทสเซียมสูงราคา 25 บาท/กิโลกรัม'),\n",
       " Document(page_content='ชื่อ สตรอว์เบอร์รีรสชาติ หวาน, เปรี้ยวสรรพคุณ มีวิตามินซีสูง, ช่วยบำรุงผิวราคา 120 บาท/กิโลกรัม'),\n",
       " Document(page_content='ชื่อ แตงโมรสชาติ หวาน, ฉ่ำสรรพคุณ ช่วยดับกระหาย, มีวิตามินเอราคา 20 บาท/กิโลกรัม'),\n",
       " Document(page_content='ชื่อ มังคุดรสชาติ หวาน, เปรี้ยวสรรพคุณ ช่วยลดการอักเสบ, มีสารต้านอนุมูลอิสระราคา 50 บาท/กิโลกรัม'),\n",
       " Document(page_content='ชื่อ เงาะรสชาติ หวาน, ฉ่ำสรรพคุณ ช่วยบำรุงผิว, มีวิตามินซีราคา 40 บาท/กิโลกรัม'),\n",
       " Document(page_content='ชื่อ ลำไยรสชาติ หวานสรรพคุณ ช่วยบำรุงเลือด, มีวิตามินบีราคา 45 บาท/กิโลกรัม'),\n",
       " Document(page_content='ชื่อ ลิ้นจี่รสชาติ หวาน, เปรี้ยวสรรพคุณ ช่วยบำรุงหัวใจ, มีวิตามินซีราคา 70 บาท/กิโลกรัม'),\n",
       " Document(page_content='ชื่อ สับปะรดรสชาติ หวาน, เปรี้ยวสรรพคุณ ช่วยย่อยอาหาร, มีวิตามินซีสูงราคา 30 บาท/กิโลกรัม'),\n",
       " Document(page_content='ชื่อ ลูกแพร์รสชาติ หวาน, กรอบสรรพคุณ ช่วยบำรุงผิว, มีไฟเบอร์สูงราคา 90 บาท/กิโลกรัม'),\n",
       " Document(page_content='ชื่อ มะละกอรสชาติ หวานสรรพคุณ ช่วยย่อยอาหาร, มีวิตามินเอราคา 25 บาท/กิโลกรัม'),\n",
       " Document(page_content='ชื่อ มะนาวรสชาติ เปรี้ยวสรรพคุณ ช่วยเสริมสร้างภูมิคุ้มกัน, มีวิตามินซีสูงราคา 40 บาท/กิโลกรัม'),\n",
       " Document(page_content='ชื่อ เสาวรสรสชาติ เปรี้ยว, หวานสรรพคุณ ช่วยบำรุงผิว, มีวิตามินซีสูงราคา 100 บาท/กิโลกรัม'),\n",
       " Document(page_content='ชื่อ แก้วมังกรรสชาติ หวาน, ฉ่ำสรรพคุณ ช่วยบำรุงผิว, มีไฟเบอร์สูงราคา 60 บาท/กิโลกรัม'),\n",
       " Document(page_content='ชื่อ ลูกพลับรสชาติ หวาน, กรอบสรรพคุณ ช่วยบำรุงสายตา, มีวิตามินเอราคา 120 บาท/กิโลกรัม'),\n",
       " Document(page_content='ชื่อ ทับทิมรสชาติ หวาน, เปรี้ยวสรรพคุณ ช่วยบำรุงหัวใจ, มีสารต้านอนุมูลอิสระราคา 80 บาท/กิโลกรัม'),\n",
       " Document(page_content='ชื่อ กีวี่รสชาติ เปรี้ยว, หวานสรรพคุณ มีวิตามินซีสูง, ช่วยบำรุงผิวราคา 150 บาท/กิโลกรัม'),\n",
       " Document(page_content='ชื่อ องุ่นรสชาติ หวาน, ฉ่ำสรรพคุณ ช่วยบำรุงหัวใจ, มีสารต้านอนุมูลอิสระราคา 100 บาท/กิโลกรัม'),\n",
       " Document(page_content='ชื่อ ลูกท้อรสชาติ หวาน, กรอบสรรพคุณ ช่วยบำรุงผิว, มีวิตามินซีราคา 120 บาท/กิโลกรัม'),\n",
       " Document(page_content='ชื่อ ลูกพรุนรสชาติ หวาน, ฉ่ำสรรพคุณ ช่วยบำรุงเลือด, มีไฟเบอร์สูงราคา 180 บาท/กิโลกรัม'),\n",
       " Document(page_content='ชื่อ ลูกฟิกรสชาติ หวานสรรพคุณ ช่วยบำรุงผิว, มีไฟเบอร์สูงราคา 200 บาท/กิโลกรัม'),\n",
       " Document(page_content='ชื่อ ลูกหว้ารสชาติ หวาน, เปรี้ยวสรรพคุณ ช่วยลดคอเลสเตอรอล, มีวิตามินซีราคา 90 บาท/กิโลกรัม'),\n",
       " Document(page_content='ชื่อ มะเฟืองรสชาติ หวาน, เปรี้ยวสรรพคุณ ช่วยย่อยอาหาร, มีวิตามินซีสูงราคา 50 บาท/กิโลกรัม'),\n",
       " Document(page_content='ชื่อ มะยมรสชาติ เปรี้ยวสรรพคุณ ช่วยบำรุงผิว, มีวิตามินซีราคา 30 บาท/กิโลกรัม'),\n",
       " Document(page_content='ชื่อ มะไฟรสชาติ เปรี้ยว, หวานสรรพคุณ ช่วยย่อยอาหาร, มีวิตามินซีราคา 40 บาท/กิโลกรัม'),\n",
       " Document(page_content='ชื่อ ขนุนรสชาติ หวานสรรพคุณ ช่วยบำรุงสายตา, มีวิตามินเอราคา 25 บาท/กิโลกรัม'),\n",
       " Document(page_content='ชื่อ ลูกแพร์น้อยรสชาติ หวาน, กรอบสรรพคุณ ช่วยบำรุงผิว, มีไฟเบอร์สูงราคา 70 บาท/กิโลกรัม')]"
      ]
     },
     "execution_count": 12,
     "metadata": {},
     "output_type": "execute_result"
    }
   ],
   "source": [
    "texts"
   ]
  },
  {
   "cell_type": "code",
   "execution_count": 13,
   "id": "8c81a598",
   "metadata": {
    "id": "8c81a598"
   },
   "outputs": [],
   "source": [
    "# This part is used for embedding the docs and storing them into Vector DB and initializing the retriever.\n",
    "embeddings = OpenAIEmbeddings()\n",
    "docsearch = Chroma.from_documents(texts, embeddings)"
   ]
  },
  {
   "cell_type": "code",
   "execution_count": 14,
   "id": "b0019df9-f4a0-42f7-9606-cbf1b3000064",
   "metadata": {
    "id": "b0019df9-f4a0-42f7-9606-cbf1b3000064"
   },
   "outputs": [],
   "source": [
    "custom_template = PromptTemplate(\n",
    "    input_variables=[\"context\", \"question\"],\n",
    "    template=\"\"\"\n",
    "    You are an AI thai language model assistant.\n",
    "    You are an expert at answering questions about fruits.\n",
    "    Answer the question based ONLY on the following context.\n",
    "    \n",
    "\n",
    "\n",
    "    {context}\n",
    "    Original question: {question}\"\"\",\n",
    ")"
   ]
  },
  {
   "cell_type": "code",
   "execution_count": 15,
   "id": "99cb075f-25ff-4564-ad13-eec37e97dd13",
   "metadata": {
    "id": "99cb075f-25ff-4564-ad13-eec37e97dd13"
   },
   "outputs": [],
   "source": [
    "# Create the language model\n",
    "llm1 = ChatOpenAI(model=\"gpt-3.5-turbo-16k\")\n",
    "\n",
    "# Create the chain\n",
    "chain1 = ConversationalRetrievalChain.from_llm(\n",
    "    llm=llm1,\n",
    "    retriever=docsearch.as_retriever(),\n",
    "    combine_docs_chain_kwargs={\"prompt\": custom_template}\n",
    ")"
   ]
  },
  {
   "cell_type": "code",
   "execution_count": 16,
   "id": "6f48ec69",
   "metadata": {
    "id": "6f48ec69"
   },
   "outputs": [
    {
     "name": "stdout",
     "output_type": "stream",
     "text": [
      "User:  ราคาผลไม้ชนิดไหนถูกกว่า 30 บ้าง\n"
     ]
    },
    {
     "name": "stdout",
     "output_type": "stream",
     "text": [
      "Chatbot: ผลไม้ชนิดที่ถูกกว่า 30 บาทคือ ส้ม และ มะม่วง ซึ่งมีราคาต่อกิโลกรัมเท่ากับ 60 บาท และ 30 บาทตามลำดับ\n"
     ]
    },
    {
     "name": "stdout",
     "output_type": "stream",
     "text": [
      "User:  ถ้าท้องผูก ต้องกินผลไม้ชนิดไหน\n"
     ]
    },
    {
     "name": "stdout",
     "output_type": "stream",
     "text": [
      "Chatbot: ถ้าท้องผูก ควรกินผลไม้ชนิดไหน?\n",
      "ถ้าคุณมีปัญหาท้องผูก ควรพิจารณาทานผลไม้ที่มีส่วนประกอบของใยอาหารสูง เช่น มะละกอ มะไฟ มะเฟือง และมะม่วง เนื่องจากผลไม้เหล่านี้มีคุณสมบัติช่วยเพิ่มปริมาณใยอาหารในระบบย่อยอาหาร ซึ่งช่วยกระตุ้นการเคลื่อนไหวของลำไส้และช่วยลดอาการท้องผูกได้\n"
     ]
    },
    {
     "name": "stdout",
     "output_type": "stream",
     "text": [
      "User:  ราคาผลไม้ชนิดไหนมีราคาถูกกว่า 30 บ้าง\n"
     ]
    },
    {
     "name": "stdout",
     "output_type": "stream",
     "text": [
      "Chatbot: ผลไม้ชนิดกล้วยมีราคาถูกกว่า 30 บาท โดยราคากล้วยคือ 25 บาทต่อกิโลกรัม\n"
     ]
    },
    {
     "name": "stdout",
     "output_type": "stream",
     "text": [
      "User:  มีกี่ชนิดอะไรบ้าง\n"
     ]
    },
    {
     "name": "stdout",
     "output_type": "stream",
     "text": [
      "Chatbot: ผลไม้ชนิดที่ราคาถูกกว่า 30 บาท คือ กล้วย ราคา 25 บาท/กิโลกรัม\n"
     ]
    },
    {
     "name": "stdout",
     "output_type": "stream",
     "text": [
      "User:  q\n"
     ]
    }
   ],
   "source": [
    "chat_history = []\n",
    "query = None  # Initialize query to avoid potential reference error\n",
    "\n",
    "while True:\n",
    "    if not query:\n",
    "        query = input(\"User: \")\n",
    "    if query in ['quit', 'q', 'exit']:\n",
    "        break\n",
    "    result = chain1.invoke({\"question\": query, \"chat_history\": chat_history})\n",
    "    print(\"Chatbot:\", result['answer'])\n",
    "\n",
    "    chat_history.append((query, result['answer']))\n",
    "    query = None"
   ]
  }
 ],
 "metadata": {
  "colab": {
   "provenance": []
  },
  "kernelspec": {
   "display_name": "Python 3 (ipykernel)",
   "language": "python",
   "name": "python3"
  },
  "language_info": {
   "codemirror_mode": {
    "name": "ipython",
    "version": 3
   },
   "file_extension": ".py",
   "mimetype": "text/x-python",
   "name": "python",
   "nbconvert_exporter": "python",
   "pygments_lexer": "ipython3",
   "version": "3.11.7"
  }
 },
 "nbformat": 4,
 "nbformat_minor": 5
}
